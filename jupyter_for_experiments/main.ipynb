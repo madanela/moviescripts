{
 "cells": [
  {
   "cell_type": "code",
   "execution_count": 6,
   "metadata": {},
   "outputs": [],
   "source": [
    "import torch\n",
    "from torch.utils.data import Dataset\n",
    "import pandas as pd\n",
    "import numpy as np\n",
    "import os"
   ]
  },
  {
   "attachments": {},
   "cell_type": "markdown",
   "metadata": {},
   "source": [
    "# MovieDialogCorpus\n"
   ]
  },
  {
   "cell_type": "code",
   "execution_count": 2,
   "metadata": {},
   "outputs": [],
   "source": [
    "base_dir = \"../data/raw/MovieDialogCorpus\""
   ]
  },
  {
   "cell_type": "code",
   "execution_count": 3,
   "metadata": {},
   "outputs": [],
   "source": [
    "movie_characters_metadata = pd.read_csv(os.path.join(base_dir,\"movie_characters_metadata.tsv\"),\n",
    "                                        sep='\\t',\n",
    "                                        names = ['charID','charName','movieID','movieName','gender','score'],\n",
    "                                        index_col=['charID'])\n",
    "movie_lines = pd.read_csv(os.path.join(base_dir,\"movie_lines.tsv\"),\n",
    "                            encoding='utf-8-sig', \n",
    "                            sep='\\t', \n",
    "                            on_bad_lines='skip', \n",
    "                            header = None,\n",
    "                            names = ['lineID', 'charID', 'movieID', 'charName', 'text'],\n",
    "                            index_col=['lineID'])"
   ]
  },
  {
   "cell_type": "code",
   "execution_count": 43,
   "metadata": {},
   "outputs": [],
   "source": [
    "a = np.array(list(set(char_names.values)))"
   ]
  },
  {
   "cell_type": "code",
   "execution_count": 52,
   "metadata": {},
   "outputs": [
    {
     "data": {
      "text/plain": [
       "(8758,)"
      ]
     },
     "execution_count": 52,
     "metadata": {},
     "output_type": "execute_result"
    }
   ],
   "source": [
    "np.unique(a).shape"
   ]
  },
  {
   "cell_type": "code",
   "execution_count": 57,
   "metadata": {},
   "outputs": [],
   "source": [
    "char_names = movie_lines.iloc[:,0]\n",
    "movie_names = movie_lines.iloc[:,1]\n",
    "char_names = np.unique(list(set(char_names.values)))\n",
    "movie_names = np.unique(list(set(movie_names.values)))"
   ]
  },
  {
   "cell_type": "code",
   "execution_count": 62,
   "metadata": {},
   "outputs": [],
   "source": [
    "char2ind = {i:j for i,j in zip(char_names,range(len(char_names)))}\n",
    "ind2char = {j:i for i,j in zip(char_names,range(len(char_names)))}\n",
    "movie2ind = {i:j for i,j in zip(movie_names,range(len(movie_names)))}\n",
    "ind2movie = {j:i for i,j in zip(movie_names,range(len(movie_names)))}"
   ]
  },
  {
   "cell_type": "code",
   "execution_count": 5,
   "metadata": {},
   "outputs": [
    {
     "name": "stderr",
     "output_type": "stream",
     "text": [
      "/Users/alenadamyan/Documents/AUA/moviescripts/moviescripts/lib/python3.9/site-packages/tqdm/auto.py:21: TqdmWarning: IProgress not found. Please update jupyter and ipywidgets. See https://ipywidgets.readthedocs.io/en/stable/user_install.html\n",
      "  from .autonotebook import tqdm as notebook_tqdm\n",
      "Downloading pytorch_model.bin: 100%|██████████| 438M/438M [00:54<00:00, 8.06MB/s] \n",
      "Downloading (…)nce_bert_config.json: 100%|██████████| 53.0/53.0 [00:00<00:00, 18.1kB/s]\n",
      "Downloading (…)cial_tokens_map.json: 100%|██████████| 112/112 [00:00<00:00, 25.0kB/s]\n",
      "Downloading (…)821d1/tokenizer.json: 466kB [00:00, 2.19MB/s]\n",
      "Downloading (…)okenizer_config.json: 100%|██████████| 399/399 [00:00<00:00, 143kB/s]\n",
      "Downloading (…)8d01e821d1/vocab.txt: 232kB [00:00, 994kB/s]\n",
      "Downloading (…)1e821d1/modules.json: 100%|██████████| 229/229 [00:00<00:00, 43.6kB/s]\n"
     ]
    }
   ],
   "source": [
    "from sentence_transformers import SentenceTransformer\n",
    "model = SentenceTransformer('bert-base-nli-mean-tokens')"
   ]
  },
  {
   "cell_type": "code",
   "execution_count": 50,
   "metadata": {},
   "outputs": [
    {
     "data": {
      "text/plain": [
       "(768,)"
      ]
     },
     "execution_count": 50,
     "metadata": {},
     "output_type": "execute_result"
    }
   ],
   "source": [
    "model.encode(\"Hello\").shape"
   ]
  },
  {
   "cell_type": "code",
   "execution_count": 65,
   "metadata": {},
   "outputs": [],
   "source": [
    "class CustomMovieDialogDataset(Dataset):\n",
    "    def __init__(self, annotations_file, base_dir, transform=None, target_transform=None):\n",
    "        self.movie_characters_metadata = pd.read_csv(os.path.join(base_dir,\"movie_characters_metadata.tsv\"),\n",
    "                                        sep='\\t',\n",
    "                                        names = ['charID','charName','movieID','movieName','gender','score'],\n",
    "                                        index_col=['charID'])\n",
    "        self.movie_lines = pd.read_csv(os.path.join(base_dir,\"movie_lines.tsv\"),\n",
    "                            encoding='utf-8-sig', \n",
    "                            sep='\\t', \n",
    "                            on_bad_lines='skip', \n",
    "                            header = None,\n",
    "                            names = ['lineID', 'charID', 'movieID', 'charName', 'text'],\n",
    "                            index_col=['lineID'])\n",
    "        self.sentence_model = SentenceTransformer('bert-base-nli-mean-tokens')\n",
    "        self.base_dir = base_dir\n",
    "        self.transform = transform\n",
    "        self.target_transform = target_transform\n",
    "\n",
    "    def __len__(self):\n",
    "        return len(self.movie_lines)\n",
    "\n",
    "    def __getitem__(self, idx):\n",
    "        data_point = self.movie_lines.iloc[idx, 3]\n",
    "        label_point = movie2ind[self.movie_lines.iloc[idx,2]]\n",
    "        \n",
    "        sentence_encoded = self.sentence_model.encode(data_point)\n",
    "        # 768 \n",
    "        return sentence_encoded, label_point"
   ]
  },
  {
   "cell_type": "code",
   "execution_count": null,
   "metadata": {},
   "outputs": [],
   "source": []
  }
 ],
 "metadata": {
  "kernelspec": {
   "display_name": "moviescripts",
   "language": "python",
   "name": "python3"
  },
  "language_info": {
   "codemirror_mode": {
    "name": "ipython",
    "version": 3
   },
   "file_extension": ".py",
   "mimetype": "text/x-python",
   "name": "python",
   "nbconvert_exporter": "python",
   "pygments_lexer": "ipython3",
   "version": "3.9.13"
  },
  "orig_nbformat": 4,
  "vscode": {
   "interpreter": {
    "hash": "57d255c94b3919c3b590e65021e667e868fc4932b6b03051f229d54b108b5f4d"
   }
  }
 },
 "nbformat": 4,
 "nbformat_minor": 2
}
