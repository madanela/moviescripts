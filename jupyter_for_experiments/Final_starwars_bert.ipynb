{
 "cells": [
  {
   "cell_type": "code",
   "execution_count": null,
   "metadata": {},
   "outputs": [],
   "source": [
    "import torch\n",
    "from torchsummary import summary\n",
    "import torch\n",
    "from torch.utils.data import Dataset\n",
    "from torch.utils.data import DataLoader\n",
    "import torch.nn as nn\n",
    "import torch.functional as F\n",
    "from sentence_transformers import SentenceTransformer\n",
    "from transformers import BertForSequenceClassification,BertTokenizer\n",
    "from transformers import BertForPreTraining\n",
    "\n",
    "import fasttext.util\n",
    "\n",
    "from tqdm import tqdm\n",
    "\n",
    "\n",
    "\n",
    "import pandas as pd\n",
    "import numpy as np\n",
    "import os"
   ]
  },
  {
   "cell_type": "code",
   "execution_count": null,
   "metadata": {},
   "outputs": [],
   "source": [
    "os.listdir(\"../data/raw/starwars\")"
   ]
  },
  {
   "cell_type": "markdown",
   "metadata": {},
   "source": [
    "# StarWars\n",
    "\n"
   ]
  },
  {
   "cell_type": "code",
   "execution_count": null,
   "metadata": {},
   "outputs": [],
   "source": [
    "base_dir = \"../data/raw/starwars\""
   ]
  },
  {
   "cell_type": "code",
   "execution_count": null,
   "metadata": {},
   "outputs": [],
   "source": [
    "folder_ep4 = os.path.join(base_dir,\"SW_EpisodeIV.txt\")\n",
    "folder_ep5 = os.path.join(base_dir,\"SW_EpisodeV.txt\")\n",
    "folder_ep6 = os.path.join(base_dir,\"SW_EpisodeVI.txt\")"
   ]
  },
  {
   "cell_type": "code",
   "execution_count": null,
   "metadata": {},
   "outputs": [],
   "source": [
    "df_ep4 = pd.read_csv(folder_ep4, sep =' ', header=0, escapechar='\\\\')\n",
    "df_ep5 = pd.read_csv(folder_ep5, sep =' ', header=0, escapechar='\\\\')\n",
    "df_ep6 = pd.read_csv(folder_ep6, sep =' ', header=0, escapechar='\\\\')\n"
   ]
  },
  {
   "cell_type": "code",
   "execution_count": null,
   "metadata": {},
   "outputs": [],
   "source": [
    "Y = pd.concat([df_ep4['character'],df_ep5['character'],df_ep6['character']]).tolist()\n",
    "X = pd.concat([df_ep4['dialogue'],df_ep5['dialogue'],df_ep6['dialogue']]).tolist()"
   ]
  },
  {
   "cell_type": "code",
   "execution_count": null,
   "metadata": {},
   "outputs": [],
   "source": [
    "labels = np.unique(Y)\n",
    "label_count = [sum(i == np.array(Y)) for i in labels]\n",
    "for i,(a,b) in enumerate(zip(labels,label_count)):\n",
    "    if b < 10:\n",
    "        labels[i] = \"Other\"\n",
    "labels = np.unique(labels)\n"
   ]
  },
  {
   "cell_type": "code",
   "execution_count": null,
   "metadata": {},
   "outputs": [],
   "source": [
    "char2ind = {i:j for i,j in zip(labels,range(len(labels)))}\n",
    "ind2char = {j:i for i,j in zip(labels,range(len(labels)))}"
   ]
  },
  {
   "cell_type": "code",
   "execution_count": null,
   "metadata": {},
   "outputs": [],
   "source": [
    "new_x = X.copy()\n",
    "new_y = []\n",
    "for idx in range(len(new_x)):\n",
    "    \n",
    "    if Y[idx] in labels:\n",
    "        label_point = char2ind[Y[idx]]\n",
    "    else:\n",
    "        label_point = char2ind[\"Other\"]\n",
    "    new_y.append(label_point)"
   ]
  },
  {
   "cell_type": "code",
   "execution_count": null,
   "metadata": {},
   "outputs": [],
   "source": [
    "import pickle5 as pickle\n",
    "if os.path.exists(\"dict_of_words.pickle\"):\n",
    "    with open('dict_of_words.pickle', 'rb') as handle:\n",
    "        dict_of_synonyms = pickle.load(handle)\n",
    "else:\n",
    "    fasttext.util.download_model('en', if_exists='ignore')  # English\n",
    "    ft = fasttext.load_model('cc.en.300.bin') \n",
    "    words = np.unique([j for i in new_x for j in i.split()])\n",
    "    dict_of_synonyms = {x:ft.get_nearest_neighbors(x) for x in words}"
   ]
  },
  {
   "cell_type": "code",
   "execution_count": null,
   "metadata": {},
   "outputs": [],
   "source": [
    "tokenizer = BertTokenizer.from_pretrained(\"bert-base-uncased\")\n",
    "option = 1\n",
    "class BertSentenceClassifier(nn.Module):\n",
    "    def __init__(self, num_labels):\n",
    "        super(BertSentenceClassifier, self).__init__()\n",
    "\n",
    "        # Option 1\n",
    "        if option == 1:\n",
    "            self.bert_training = BertForSequenceClassification.from_pretrained('bert-base-uncased', problem_type=\"multi_label_classification\").bert\n",
    "        elif option == 2:\n",
    "            self.bert_training = SentenceTransformer('bert-base-nli-mean-tokens')\n",
    "\n",
    "        \n",
    "        \n",
    "        for param in self.bert_training.parameters():\n",
    "            param.requires_grad = False\n",
    "        self.dropout_rate = 0.1\n",
    "        self.lin1 = nn.Linear(768, 256)\n",
    "        self.lin_layers = nn.ModuleList([nn.Linear(256, 256) for i in range(1)])\n",
    "        self.lin2 = nn.Linear(256, num_labels)\n",
    "\n",
    "    def forward(self, input_ids, attention_mask):\n",
    "        # bert_1 = self.bert_freezed(input_ids=input_ids, attention_mask=attention_mask)\n",
    "        if option == 1:\n",
    "            bert_output = self.bert_training(input_ids=input_ids, attention_mask=attention_mask).pooler_output\n",
    "        else:\n",
    "            pass\n",
    "        x = nn.functional.relu(self.lin1(bert_output))\n",
    "\n",
    "        x = nn.functional.dropout(x, self.dropout_rate)\n",
    "\n",
    "        for lin_layer in self.lin_layers:\n",
    "\n",
    "            x = nn.functional.relu(lin_layer(x))\n",
    "            x = nn.functional.dropout(x, self.dropout_rate)\n",
    "\n",
    "        x = self.lin2(x)\n",
    "        return x\n",
    "model = BertSentenceClassifier(len(labels))"
   ]
  },
  {
   "cell_type": "code",
   "execution_count": null,
   "metadata": {},
   "outputs": [],
   "source": [
    "model.train()"
   ]
  },
  {
   "cell_type": "code",
   "execution_count": null,
   "metadata": {},
   "outputs": [],
   "source": [
    "from transformers import AdamW\n",
    "optimizer = AdamW(model.parameters(), lr=1e-3)\n",
    "no_decay = ['bias', 'LayerNorm.weight']\n",
    "optimizer_grouped_parameters = [\n",
    "    {'params': [p for n, p in model.named_parameters() if not any(nd in n for nd in no_decay)], 'weight_decay': 0.01},\n",
    "    {'params': [p for n, p in model.named_parameters() if any(nd in n for nd in no_decay)], 'weight_decay': 0.0}\n",
    "]\n",
    "optimizer = AdamW(optimizer_grouped_parameters, lr=1e-5)"
   ]
  },
  {
   "cell_type": "code",
   "execution_count": null,
   "metadata": {},
   "outputs": [],
   "source": [
    "import nltk\n",
    "from nltk.corpus import wordnet\n",
    "import random\n",
    "nltk.download('wordnet')\n",
    "nltk.download('omw-1.4')\n",
    "def add_noise(text, p=0.2):\n",
    "    words = text.split()\n",
    "    num_noise_words = int(len(words) * p)\n",
    "    for i in range(num_noise_words):\n",
    "        idx = random.randint(0, len(words)-1)\n",
    "        word = words[idx]\n",
    "        synsets = wordnet.synsets(word)\n",
    "        if synsets:\n",
    "            synset = random.choice(synsets)\n",
    "            synonyms = synset.lemmas()\n",
    "            if random.random() < p/2:\n",
    "                synonym = random.choice(synonyms)\n",
    "                words[idx] = synonym.name()\n",
    "            # Replace word with nearest neighbor with probability p/2\n",
    "            else:\n",
    "                if word in dict_of_synonyms:\n",
    "                    \n",
    "                    nn = random.choice(dict_of_synonyms[word])\n",
    "                    # print(\"number is nn: \",nn)\n",
    "                    words[idx] = nn[1]\n",
    "                else:\n",
    "                    synonym = random.choice(synonyms)\n",
    "                    words[idx] = synonym.name()\n",
    "    # print(words)\n",
    "    return ' '.join(words)\n",
    "\n",
    "class TextClassificationDataset(Dataset):\n",
    "    def __init__(self, X, y, tokenizer):\n",
    "        self.X = X\n",
    "        self.y = y\n",
    "        self.tokenizer = tokenizer\n",
    "\n",
    "    def __len__(self):\n",
    "        return len(self.X)\n",
    "\n",
    "    def __getitem__(self, idx):\n",
    "        text = add_noise(str(self.X[idx]), p = .8)\n",
    "        label = self.y[idx]\n",
    "        encoding = self.tokenizer(\n",
    "            text, \n",
    "            add_special_tokens=True, \n",
    "            max_length=512, \n",
    "            padding='max_length', \n",
    "            truncation=True, \n",
    "            return_attention_mask=True, \n",
    "            return_tensors='pt'\n",
    "        )\n",
    "        input_ids = encoding['input_ids'].squeeze()\n",
    "        attention_mask = encoding['attention_mask'].squeeze()\n",
    "\n",
    "        return input_ids, attention_mask, torch.tensor(label)\n",
    "\n",
    "# Assuming X is a list of texts and y is a list of labels\n",
    "X = [\"I love Pixar.\", \"I don't care for Pixar.\"]\n",
    "y = [1, 0]\n",
    "\n",
    "# Load the pre-trained tokenizer\n",
    "tokenizer = BertTokenizer.from_pretrained('bert-base-uncased')\n",
    "\n",
    "# Create the dataset\n",
    "dataset = TextClassificationDataset(new_x, new_y, tokenizer)\n",
    "\n",
    "# Create the data loader\n",
    "batch_size = 4\n",
    "\n",
    "train_set, val_set = torch.utils.data.random_split(dataset, [2000, 523])\n",
    "\n",
    "train_loader = DataLoader(train_set,batch_size=4,shuffle=True,drop_last=True)\n",
    "val_loader = DataLoader(val_set,batch_size=4,shuffle=True,drop_last=True)\n",
    "\n"
   ]
  },
  {
   "cell_type": "code",
   "execution_count": null,
   "metadata": {},
   "outputs": [],
   "source": [
    "\n",
    "import os\n",
    "from sys import platform\n",
    "\n",
    "import torch\n",
    "if platform == \"darwin\":\n",
    "    device = \"mps\" if torch.backends.mps.is_available() else \"cpu\"\n",
    "else:\n",
    "    device = \"cuda\" if torch.cuda.is_available() else \"cpu\"\n",
    "\n",
    "    torch.backends.cudnn.benchmark = True\n",
    "    torch.backends.cudnn.deterministic = True\n",
    "    torch.backends.cudnn.enabled = True\n",
    "    torch.autograd.set_detect_anomaly(True)\n",
    "    os.environ['CUDA_LAUNCH_BLOCKING'] = '1'\n",
    "    os.environ['TORCH_USE_CUDA_DSA'] = '1'\n",
    "\n",
    "\n",
    "    device = \"cuda\" if torch.cuda.is_available() else \"cpu\"\n"
   ]
  },
  {
   "cell_type": "code",
   "execution_count": null,
   "metadata": {},
   "outputs": [],
   "source": [
    "def accuracy(preds, labels):\n",
    "    _, predictions = torch.max(preds, dim=1)\n",
    "    correct = (predictions == labels).sum().item()\n",
    "    return correct / len(labels)\n",
    "\n",
    "def train(model, optimizer, train_loader, val_loader,num_epochs):\n",
    "    model = model.to(device)\n",
    "    criterion = nn.CrossEntropyLoss()\n",
    "\n",
    "    for epoch in range(num_epochs):\n",
    "        running_loss = 0.0\n",
    "        running_accuracy = 0.0\n",
    "        num_batches = 0\n",
    "\n",
    "        # Training step\n",
    "        model.train()\n",
    "        loop = tqdm(train_loader, total=len(train_loader))\n",
    "        for input_ids, attention_mask, labels in loop:\n",
    "\n",
    "            input_ids = input_ids.to(device)\n",
    "            attention_mask = attention_mask.to(device)\n",
    "            labels = labels.to(device)\n",
    "\n",
    "            optimizer.zero_grad()\n",
    "            outputs = model(input_ids=input_ids, attention_mask=attention_mask)\n",
    "            loss = criterion(outputs, labels)\n",
    "            acc = accuracy(outputs, labels)\n",
    "\n",
    "            loss.backward()\n",
    "            optimizer.step()\n",
    "\n",
    "            running_loss += loss.item()\n",
    "            running_accuracy += acc\n",
    "            num_batches += 1\n",
    "            loop.set_description(f\"Epoch [{epoch + 1}] (Training)\")\n",
    "            loop.set_postfix(loss=loss.item())\n",
    "\n",
    "        epoch_loss = running_loss / num_batches\n",
    "        epoch_accuracy = running_accuracy / num_batches\n",
    "        print(f\"Epoch [{epoch+1}] (Training) Loss: {epoch_loss:.4f} Accuracy: {epoch_accuracy:.4f}\")\n",
    "\n",
    "        # Evaluation step\n",
    "        running_accuracy = 0.0\n",
    "        num_batches = 0\n",
    "        model.eval()\n",
    "        with torch.no_grad():\n",
    "            for input_ids, attention_mask, labels in val_loader:\n",
    "                input_ids = input_ids.to(device)\n",
    "                attention_mask = attention_mask.to(device)\n",
    "                labels = labels.to(device)\n",
    "\n",
    "                outputs = model(input_ids=input_ids, attention_mask=attention_mask)\n",
    "                acc = accuracy(outputs, labels)\n",
    "\n",
    "                running_accuracy += acc\n",
    "                num_batches += 1\n",
    "\n",
    "        val_accuracy = running_accuracy / num_batches\n",
    "        print(f\"Epoch [{epoch+1}] (Validation) Accuracy: {val_accuracy:.4f}\")\n",
    "\n",
    "    return model\n"
   ]
  },
  {
   "cell_type": "code",
   "execution_count": null,
   "metadata": {},
   "outputs": [],
   "source": [
    "train(model,optimizer, train_loader,val_loader,100)"
   ]
  },
  {
   "cell_type": "code",
   "execution_count": null,
   "metadata": {},
   "outputs": [],
   "source": [
    "torch.save(model.state_dict(), \"saved_model.pt\")"
   ]
  },
  {
   "cell_type": "code",
   "execution_count": null,
   "metadata": {},
   "outputs": [],
   "source": [
    "model2 = BertSentenceClassifier(24)"
   ]
  },
  {
   "cell_type": "code",
   "execution_count": null,
   "metadata": {},
   "outputs": [],
   "source": [
    "model2.load_state_dict(torch.load('saved_model.pt'))\n"
   ]
  },
  {
   "cell_type": "code",
   "execution_count": null,
   "metadata": {},
   "outputs": [],
   "source": []
  }
 ],
 "metadata": {
  "kernelspec": {
   "display_name": "base",
   "language": "python",
   "name": "python3"
  },
  "language_info": {
   "codemirror_mode": {
    "name": "ipython",
    "version": 3
   },
   "file_extension": ".py",
   "mimetype": "text/x-python",
   "name": "python",
   "nbconvert_exporter": "python",
   "pygments_lexer": "ipython3",
   "version": "3.9.13"
  },
  "orig_nbformat": 4,
  "vscode": {
   "interpreter": {
    "hash": "573cf0678d00c74445c44d580176cd85302f26e1d414916d8b632bc81d10db1a"
   }
  }
 },
 "nbformat": 4,
 "nbformat_minor": 2
}
