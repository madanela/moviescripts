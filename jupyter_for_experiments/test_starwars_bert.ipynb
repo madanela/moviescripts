{
 "cells": [
  {
   "cell_type": "code",
   "execution_count": 1,
   "metadata": {},
   "outputs": [],
   "source": [
    "# !pip install fasttext pickle5"
   ]
  },
  {
   "cell_type": "code",
   "execution_count": 2,
   "metadata": {},
   "outputs": [
    {
     "name": "stderr",
     "output_type": "stream",
     "text": [
      "/Users/alenadamyan/Documents/AUA/moviescripts/moviescripts/lib/python3.9/site-packages/tqdm/auto.py:21: TqdmWarning: IProgress not found. Please update jupyter and ipywidgets. See https://ipywidgets.readthedocs.io/en/stable/user_install.html\n",
      "  from .autonotebook import tqdm as notebook_tqdm\n"
     ]
    }
   ],
   "source": [
    "import torch\n",
    "from torchsummary import summary\n",
    "import torch\n",
    "from torch.utils.data import Dataset\n",
    "from torch.utils.data import DataLoader\n",
    "import torch.nn as nn\n",
    "import torch.functional as F\n",
    "from sentence_transformers import SentenceTransformer\n",
    "from transformers import BertForSequenceClassification,BertTokenizer\n",
    "from transformers import BertForPreTraining\n",
    "\n",
    "import fasttext.util\n",
    "\n",
    "from tqdm import tqdm\n",
    "\n",
    "\n",
    "\n",
    "import pandas as pd\n",
    "import numpy as np\n",
    "import os"
   ]
  },
  {
   "cell_type": "markdown",
   "metadata": {},
   "source": [
    "# StarWars\n",
    "\n"
   ]
  },
  {
   "cell_type": "code",
   "execution_count": 3,
   "metadata": {},
   "outputs": [],
   "source": [
    "base_dir = \"../data/raw/StarWarsEpisodes\""
   ]
  },
  {
   "cell_type": "code",
   "execution_count": 4,
   "metadata": {},
   "outputs": [],
   "source": [
    "folder_ep4 = os.path.join(base_dir,\"SW_EpisodeIV.txt\")\n",
    "folder_ep5 = os.path.join(base_dir,\"SW_EpisodeV.txt\")\n",
    "folder_ep6 = os.path.join(base_dir,\"SW_EpisodeVI.txt\")"
   ]
  },
  {
   "cell_type": "code",
   "execution_count": 5,
   "metadata": {},
   "outputs": [],
   "source": [
    "df_ep4 = pd.read_csv(folder_ep4, sep =' ', header=0, escapechar='\\\\')\n",
    "df_ep5 = pd.read_csv(folder_ep5, sep =' ', header=0, escapechar='\\\\')\n",
    "df_ep6 = pd.read_csv(folder_ep6, sep =' ', header=0, escapechar='\\\\')\n"
   ]
  },
  {
   "cell_type": "code",
   "execution_count": 6,
   "metadata": {},
   "outputs": [],
   "source": [
    "Y = pd.concat([df_ep4['character'],df_ep5['character'],df_ep6['character']]).tolist()\n",
    "X = pd.concat([df_ep4['dialogue'],df_ep5['dialogue'],df_ep6['dialogue']]).tolist()"
   ]
  },
  {
   "cell_type": "code",
   "execution_count": 7,
   "metadata": {},
   "outputs": [],
   "source": [
    "labels = np.unique(Y)\n",
    "label_count = [sum(i == np.array(Y)) for i in labels]\n",
    "for i,(a,b) in enumerate(zip(labels,label_count)):\n",
    "    if b < 10:\n",
    "        labels[i] = \"Other\"\n",
    "labels = np.unique(labels)\n"
   ]
  },
  {
   "cell_type": "code",
   "execution_count": 8,
   "metadata": {},
   "outputs": [],
   "source": [
    "char2ind = {i:j for i,j in zip(labels,range(len(labels)))}\n",
    "ind2char = {j:i for i,j in zip(labels,range(len(labels)))}"
   ]
  },
  {
   "cell_type": "code",
   "execution_count": 9,
   "metadata": {},
   "outputs": [],
   "source": [
    "new_x = X.copy()\n",
    "new_y = []\n",
    "for idx in range(len(new_x)):\n",
    "    \n",
    "    if Y[idx] in labels:\n",
    "        label_point = char2ind[Y[idx]]\n",
    "    else:\n",
    "        label_point = char2ind[\"Other\"]\n",
    "    new_y.append(label_point)"
   ]
  },
  {
   "cell_type": "code",
   "execution_count": 10,
   "metadata": {},
   "outputs": [],
   "source": [
    "import pickle5 as pickle\n",
    "if os.path.exists(\"dict_of_words.pickle\"):\n",
    "    with open('dict_of_words.pickle', 'rb') as handle:\n",
    "        dict_of_synonyms = pickle.load(handle)\n",
    "else:\n",
    "    fasttext.util.download_model('en', if_exists='ignore')  # English\n",
    "    ft = fasttext.load_model('cc.en.300.bin') \n",
    "    words = np.unique([j for i in new_x for j in i.split()])\n",
    "    dict_of_synonyms = {x:ft.get_nearest_neighbors(x) for x in words}"
   ]
  },
  {
   "cell_type": "code",
   "execution_count": 12,
   "metadata": {},
   "outputs": [
    {
     "name": "stdout",
     "output_type": "stream",
     "text": [
      "ok2\n"
     ]
    },
    {
     "name": "stderr",
     "output_type": "stream",
     "text": [
      "You are using a model of type distilbert to instantiate a model of type bert. This is not supported for all configurations of models and can yield errors.\n",
      "Downloading pytorch_model.bin: 100%|██████████| 268M/268M [02:40<00:00, 1.67MB/s]\n",
      "Some weights of the model checkpoint at distilbert-base-uncased were not used when initializing BertForPreTraining: ['distilbert.transformer.layer.0.sa_layer_norm.weight', 'vocab_transform.weight', 'vocab_projector.bias', 'distilbert.transformer.layer.4.attention.v_lin.bias', 'distilbert.embeddings.LayerNorm.weight', 'distilbert.transformer.layer.5.attention.k_lin.weight', 'distilbert.transformer.layer.2.attention.q_lin.bias', 'distilbert.transformer.layer.3.attention.q_lin.weight', 'distilbert.transformer.layer.4.attention.q_lin.weight', 'distilbert.transformer.layer.4.output_layer_norm.weight', 'distilbert.transformer.layer.3.sa_layer_norm.bias', 'distilbert.transformer.layer.2.ffn.lin1.weight', 'distilbert.transformer.layer.4.sa_layer_norm.weight', 'distilbert.transformer.layer.4.attention.out_lin.bias', 'distilbert.transformer.layer.3.ffn.lin1.bias', 'distilbert.transformer.layer.0.attention.q_lin.weight', 'vocab_layer_norm.weight', 'distilbert.transformer.layer.0.attention.k_lin.bias', 'distilbert.transformer.layer.1.output_layer_norm.bias', 'vocab_transform.bias', 'distilbert.transformer.layer.0.ffn.lin2.weight', 'distilbert.transformer.layer.0.ffn.lin1.bias', 'distilbert.transformer.layer.5.ffn.lin1.weight', 'distilbert.transformer.layer.3.attention.q_lin.bias', 'distilbert.transformer.layer.4.attention.out_lin.weight', 'distilbert.transformer.layer.4.ffn.lin2.weight', 'distilbert.transformer.layer.4.ffn.lin2.bias', 'distilbert.transformer.layer.3.attention.v_lin.weight', 'distilbert.transformer.layer.3.output_layer_norm.bias', 'distilbert.transformer.layer.4.output_layer_norm.bias', 'distilbert.embeddings.LayerNorm.bias', 'distilbert.transformer.layer.2.ffn.lin2.weight', 'distilbert.transformer.layer.3.output_layer_norm.weight', 'distilbert.transformer.layer.0.output_layer_norm.weight', 'distilbert.transformer.layer.5.sa_layer_norm.weight', 'distilbert.transformer.layer.1.attention.q_lin.bias', 'distilbert.transformer.layer.3.attention.k_lin.weight', 'distilbert.transformer.layer.2.output_layer_norm.weight', 'distilbert.transformer.layer.1.ffn.lin2.weight', 'distilbert.transformer.layer.0.sa_layer_norm.bias', 'distilbert.transformer.layer.4.attention.k_lin.bias', 'distilbert.embeddings.position_embeddings.weight', 'distilbert.transformer.layer.1.attention.v_lin.bias', 'distilbert.transformer.layer.4.sa_layer_norm.bias', 'distilbert.transformer.layer.1.output_layer_norm.weight', 'distilbert.transformer.layer.5.attention.v_lin.bias', 'vocab_layer_norm.bias', 'distilbert.transformer.layer.4.attention.q_lin.bias', 'distilbert.transformer.layer.3.ffn.lin2.bias', 'distilbert.transformer.layer.3.attention.v_lin.bias', 'distilbert.transformer.layer.2.sa_layer_norm.bias', 'distilbert.transformer.layer.0.ffn.lin1.weight', 'distilbert.transformer.layer.0.attention.v_lin.bias', 'distilbert.transformer.layer.3.sa_layer_norm.weight', 'distilbert.transformer.layer.3.attention.out_lin.bias', 'distilbert.transformer.layer.5.output_layer_norm.weight', 'distilbert.transformer.layer.2.output_layer_norm.bias', 'distilbert.transformer.layer.5.attention.q_lin.weight', 'distilbert.transformer.layer.5.attention.k_lin.bias', 'distilbert.transformer.layer.5.attention.out_lin.weight', 'distilbert.transformer.layer.5.attention.out_lin.bias', 'distilbert.transformer.layer.4.attention.v_lin.weight', 'distilbert.transformer.layer.1.ffn.lin1.bias', 'distilbert.transformer.layer.0.attention.out_lin.weight', 'distilbert.embeddings.word_embeddings.weight', 'distilbert.transformer.layer.2.attention.v_lin.bias', 'distilbert.transformer.layer.1.sa_layer_norm.bias', 'distilbert.transformer.layer.4.ffn.lin1.bias', 'distilbert.transformer.layer.4.attention.k_lin.weight', 'distilbert.transformer.layer.1.attention.v_lin.weight', 'distilbert.transformer.layer.3.ffn.lin2.weight', 'distilbert.transformer.layer.5.sa_layer_norm.bias', 'distilbert.transformer.layer.3.ffn.lin1.weight', 'distilbert.transformer.layer.0.attention.q_lin.bias', 'distilbert.transformer.layer.1.sa_layer_norm.weight', 'distilbert.transformer.layer.1.attention.k_lin.weight', 'distilbert.transformer.layer.3.attention.k_lin.bias', 'distilbert.transformer.layer.1.attention.q_lin.weight', 'distilbert.transformer.layer.2.attention.v_lin.weight', 'distilbert.transformer.layer.2.attention.k_lin.weight', 'distilbert.transformer.layer.1.attention.k_lin.bias', 'distilbert.transformer.layer.5.ffn.lin2.weight', 'distilbert.transformer.layer.2.ffn.lin1.bias', 'distilbert.transformer.layer.0.attention.out_lin.bias', 'vocab_projector.weight', 'distilbert.transformer.layer.2.sa_layer_norm.weight', 'distilbert.transformer.layer.5.output_layer_norm.bias', 'distilbert.transformer.layer.0.attention.k_lin.weight', 'distilbert.transformer.layer.0.ffn.lin2.bias', 'distilbert.transformer.layer.1.attention.out_lin.weight', 'distilbert.transformer.layer.1.ffn.lin1.weight', 'distilbert.transformer.layer.5.ffn.lin1.bias', 'distilbert.transformer.layer.2.attention.out_lin.weight', 'distilbert.transformer.layer.5.attention.v_lin.weight', 'distilbert.transformer.layer.2.attention.out_lin.bias', 'distilbert.transformer.layer.4.ffn.lin1.weight', 'distilbert.transformer.layer.2.attention.q_lin.weight', 'distilbert.transformer.layer.5.ffn.lin2.bias', 'distilbert.transformer.layer.2.attention.k_lin.bias', 'distilbert.transformer.layer.2.ffn.lin2.bias', 'distilbert.transformer.layer.0.output_layer_norm.bias', 'distilbert.transformer.layer.0.attention.v_lin.weight', 'distilbert.transformer.layer.1.ffn.lin2.bias', 'distilbert.transformer.layer.5.attention.q_lin.bias', 'distilbert.transformer.layer.3.attention.out_lin.weight', 'distilbert.transformer.layer.1.attention.out_lin.bias']\n",
      "- This IS expected if you are initializing BertForPreTraining from the checkpoint of a model trained on another task or with another architecture (e.g. initializing a BertForSequenceClassification model from a BertForPreTraining model).\n",
      "- This IS NOT expected if you are initializing BertForPreTraining from the checkpoint of a model that you expect to be exactly identical (initializing a BertForSequenceClassification model from a BertForSequenceClassification model).\n",
      "Some weights of BertForPreTraining were not initialized from the model checkpoint at distilbert-base-uncased and are newly initialized: ['encoder.layer.10.attention.self.query.weight', 'encoder.layer.7.attention.self.key.weight', 'encoder.layer.1.attention.output.LayerNorm.bias', 'encoder.layer.1.intermediate.dense.weight', 'encoder.layer.1.attention.output.LayerNorm.weight', 'encoder.layer.11.output.LayerNorm.weight', 'encoder.layer.11.intermediate.dense.weight', 'encoder.layer.6.output.LayerNorm.bias', 'encoder.layer.0.attention.self.query.bias', 'encoder.layer.5.output.dense.bias', 'encoder.layer.9.attention.self.key.weight', 'encoder.layer.8.output.LayerNorm.weight', 'embeddings.word_embeddings.weight', 'embeddings.LayerNorm.weight', 'encoder.layer.1.output.LayerNorm.bias', 'encoder.layer.3.intermediate.dense.bias', 'encoder.layer.1.output.LayerNorm.weight', 'encoder.layer.6.attention.self.query.weight', 'encoder.layer.6.attention.self.key.bias', 'encoder.layer.5.attention.self.query.weight', 'encoder.layer.2.output.LayerNorm.bias', 'encoder.layer.1.attention.self.key.bias', 'encoder.layer.8.attention.output.dense.weight', 'encoder.layer.10.output.dense.bias', 'encoder.layer.10.intermediate.dense.bias', 'encoder.layer.8.attention.self.key.bias', 'encoder.layer.0.attention.self.query.weight', 'encoder.layer.0.attention.output.LayerNorm.weight', 'encoder.layer.2.output.dense.bias', 'encoder.layer.8.attention.output.LayerNorm.weight', 'encoder.layer.0.attention.self.value.weight', 'encoder.layer.10.attention.self.query.bias', 'encoder.layer.1.attention.self.value.bias', 'cls.predictions.transform.dense.weight', 'encoder.layer.9.attention.output.LayerNorm.bias', 'encoder.layer.11.attention.output.dense.weight', 'encoder.layer.8.intermediate.dense.bias', 'encoder.layer.3.attention.self.query.bias', 'encoder.layer.7.output.LayerNorm.bias', 'encoder.layer.6.output.dense.weight', 'encoder.layer.3.output.dense.weight', 'encoder.layer.0.output.LayerNorm.weight', 'encoder.layer.8.attention.self.query.weight', 'encoder.layer.2.attention.self.value.bias', 'encoder.layer.5.intermediate.dense.weight', 'encoder.layer.6.attention.self.query.bias', 'encoder.layer.10.attention.self.value.bias', 'encoder.layer.7.intermediate.dense.bias', 'encoder.layer.10.output.LayerNorm.weight', 'encoder.layer.2.attention.output.dense.weight', 'encoder.layer.8.output.dense.bias', 'encoder.layer.4.intermediate.dense.bias', 'encoder.layer.5.attention.output.LayerNorm.bias', 'encoder.layer.7.attention.output.dense.weight', 'encoder.layer.10.attention.output.dense.weight', 'encoder.layer.0.output.LayerNorm.bias', 'encoder.layer.3.attention.self.query.weight', 'encoder.layer.3.attention.self.key.bias', 'encoder.layer.9.output.LayerNorm.weight', 'encoder.layer.5.attention.self.value.weight', 'encoder.layer.10.output.LayerNorm.bias', 'encoder.layer.2.attention.self.query.weight', 'encoder.layer.4.attention.self.key.bias', 'encoder.layer.3.output.LayerNorm.bias', 'encoder.layer.8.output.dense.weight', 'cls.seq_relationship.bias', 'embeddings.position_embeddings.weight', 'encoder.layer.8.output.LayerNorm.bias', 'encoder.layer.1.attention.self.query.weight', 'encoder.layer.6.attention.self.value.weight', 'encoder.layer.4.attention.self.query.weight', 'encoder.layer.7.attention.self.query.bias', 'encoder.layer.6.attention.self.value.bias', 'encoder.layer.3.attention.self.value.weight', 'encoder.layer.7.attention.output.LayerNorm.bias', 'encoder.layer.4.output.LayerNorm.bias', 'encoder.layer.0.output.dense.bias', 'encoder.layer.3.attention.output.dense.weight', 'encoder.layer.0.intermediate.dense.weight', 'encoder.layer.7.output.LayerNorm.weight', 'encoder.layer.7.output.dense.weight', 'encoder.layer.1.attention.self.key.weight', 'encoder.layer.1.attention.output.dense.weight', 'encoder.layer.11.attention.output.LayerNorm.bias', 'encoder.layer.9.attention.output.dense.bias', 'encoder.layer.10.attention.self.key.weight', 'embeddings.LayerNorm.bias', 'encoder.layer.7.intermediate.dense.weight', 'encoder.layer.10.attention.self.key.bias', 'encoder.layer.5.attention.self.query.bias', 'encoder.layer.10.output.dense.weight', 'encoder.layer.5.attention.output.dense.bias', 'encoder.layer.5.attention.self.value.bias', 'encoder.layer.11.output.LayerNorm.bias', 'encoder.layer.6.attention.output.LayerNorm.bias', 'encoder.layer.11.attention.self.key.weight', 'encoder.layer.0.attention.self.key.weight', 'encoder.layer.6.attention.output.dense.bias', 'embeddings.token_type_embeddings.weight', 'encoder.layer.1.attention.output.dense.bias', 'encoder.layer.0.attention.self.key.bias', 'encoder.layer.3.attention.output.dense.bias', 'encoder.layer.11.attention.output.LayerNorm.weight', 'encoder.layer.10.intermediate.dense.weight', 'encoder.layer.6.attention.output.dense.weight', 'encoder.layer.6.attention.output.LayerNorm.weight', 'encoder.layer.5.attention.self.key.bias', 'encoder.layer.9.intermediate.dense.bias', 'cls.predictions.bias', 'encoder.layer.11.attention.self.query.bias', 'encoder.layer.4.attention.output.LayerNorm.bias', 'encoder.layer.8.attention.output.LayerNorm.bias', 'encoder.layer.2.attention.output.LayerNorm.bias', 'encoder.layer.5.attention.output.LayerNorm.weight', 'encoder.layer.6.intermediate.dense.weight', 'pooler.dense.bias', 'encoder.layer.11.attention.output.dense.bias', 'encoder.layer.11.attention.self.query.weight', 'encoder.layer.8.attention.self.query.bias', 'encoder.layer.8.attention.self.value.bias', 'encoder.layer.8.intermediate.dense.weight', 'encoder.layer.9.attention.self.query.bias', 'encoder.layer.1.output.dense.weight', 'encoder.layer.9.attention.output.dense.weight', 'encoder.layer.5.attention.self.key.weight', 'encoder.layer.8.attention.self.value.weight', 'encoder.layer.4.output.LayerNorm.weight', 'encoder.layer.9.attention.self.query.weight', 'encoder.layer.9.attention.self.key.bias', 'encoder.layer.7.attention.self.value.weight', 'encoder.layer.9.attention.output.LayerNorm.weight', 'encoder.layer.9.intermediate.dense.weight', 'cls.seq_relationship.weight', 'encoder.layer.9.output.LayerNorm.bias', 'encoder.layer.0.attention.self.value.bias', 'encoder.layer.5.output.dense.weight', 'encoder.layer.0.attention.output.dense.bias', 'encoder.layer.0.attention.output.dense.weight', 'encoder.layer.3.attention.output.LayerNorm.weight', 'encoder.layer.7.attention.self.value.bias', 'encoder.layer.11.attention.self.value.weight', 'encoder.layer.5.intermediate.dense.bias', 'encoder.layer.4.output.dense.bias', 'encoder.layer.3.output.LayerNorm.weight', 'encoder.layer.10.attention.self.value.weight', 'encoder.layer.2.attention.self.key.weight', 'encoder.layer.11.output.dense.weight', 'cls.predictions.transform.dense.bias', 'encoder.layer.1.attention.self.query.bias', 'encoder.layer.10.attention.output.LayerNorm.weight', 'encoder.layer.11.intermediate.dense.bias', 'encoder.layer.3.attention.self.key.weight', 'encoder.layer.5.output.LayerNorm.weight', 'encoder.layer.2.attention.self.query.bias', 'encoder.layer.11.attention.self.value.bias', 'encoder.layer.10.attention.output.LayerNorm.bias', 'encoder.layer.7.output.dense.bias', 'encoder.layer.4.attention.output.LayerNorm.weight', 'encoder.layer.9.output.dense.bias', 'encoder.layer.1.attention.self.value.weight', 'encoder.layer.4.attention.self.query.bias', 'cls.predictions.transform.LayerNorm.bias', 'encoder.layer.6.attention.self.key.weight', 'encoder.layer.4.attention.self.value.weight', 'encoder.layer.9.attention.self.value.bias', 'encoder.layer.5.output.LayerNorm.bias', 'encoder.layer.3.output.dense.bias', 'encoder.layer.1.output.dense.bias', 'encoder.layer.2.attention.self.key.bias', 'encoder.layer.3.attention.output.LayerNorm.bias', 'encoder.layer.7.attention.output.LayerNorm.weight', 'encoder.layer.7.attention.self.key.bias', 'encoder.layer.0.output.dense.weight', 'encoder.layer.4.attention.self.key.weight', 'encoder.layer.1.intermediate.dense.bias', 'encoder.layer.5.attention.output.dense.weight', 'encoder.layer.6.intermediate.dense.bias', 'encoder.layer.2.intermediate.dense.bias', 'cls.predictions.transform.LayerNorm.weight', 'encoder.layer.4.output.dense.weight', 'encoder.layer.6.output.LayerNorm.weight', 'encoder.layer.4.intermediate.dense.weight', 'encoder.layer.0.attention.output.LayerNorm.bias', 'encoder.layer.3.intermediate.dense.weight', 'encoder.layer.4.attention.output.dense.weight', 'encoder.layer.8.attention.output.dense.bias', 'encoder.layer.2.intermediate.dense.weight', 'encoder.layer.11.output.dense.bias', 'encoder.layer.2.attention.output.dense.bias', 'encoder.layer.4.attention.output.dense.bias', 'encoder.layer.10.attention.output.dense.bias', 'encoder.layer.6.output.dense.bias', 'encoder.layer.4.attention.self.value.bias', 'encoder.layer.2.output.dense.weight', 'encoder.layer.9.attention.self.value.weight', 'pooler.dense.weight', 'encoder.layer.2.output.LayerNorm.weight', 'encoder.layer.8.attention.self.key.weight', 'encoder.layer.3.attention.self.value.bias', 'encoder.layer.0.intermediate.dense.bias', 'encoder.layer.2.attention.self.value.weight', 'encoder.layer.7.attention.self.query.weight', 'encoder.layer.2.attention.output.LayerNorm.weight', 'encoder.layer.7.attention.output.dense.bias', 'encoder.layer.9.output.dense.weight', 'encoder.layer.11.attention.self.key.bias']\n",
      "You should probably TRAIN this model on a down-stream task to be able to use it for predictions and inference.\n"
     ]
    },
    {
     "name": "stdout",
     "output_type": "stream",
     "text": [
      "ok2\n"
     ]
    },
    {
     "name": "stderr",
     "output_type": "stream",
     "text": [
      "You are using a model of type distilbert to instantiate a model of type bert. This is not supported for all configurations of models and can yield errors.\n",
      "Some weights of the model checkpoint at distilbert-base-uncased were not used when initializing BertForPreTraining: ['distilbert.transformer.layer.0.sa_layer_norm.weight', 'vocab_transform.weight', 'vocab_projector.bias', 'distilbert.transformer.layer.4.attention.v_lin.bias', 'distilbert.embeddings.LayerNorm.weight', 'distilbert.transformer.layer.5.attention.k_lin.weight', 'distilbert.transformer.layer.2.attention.q_lin.bias', 'distilbert.transformer.layer.3.attention.q_lin.weight', 'distilbert.transformer.layer.4.attention.q_lin.weight', 'distilbert.transformer.layer.4.output_layer_norm.weight', 'distilbert.transformer.layer.3.sa_layer_norm.bias', 'distilbert.transformer.layer.2.ffn.lin1.weight', 'distilbert.transformer.layer.4.sa_layer_norm.weight', 'distilbert.transformer.layer.4.attention.out_lin.bias', 'distilbert.transformer.layer.3.ffn.lin1.bias', 'distilbert.transformer.layer.0.attention.q_lin.weight', 'vocab_layer_norm.weight', 'distilbert.transformer.layer.0.attention.k_lin.bias', 'distilbert.transformer.layer.1.output_layer_norm.bias', 'vocab_transform.bias', 'distilbert.transformer.layer.0.ffn.lin2.weight', 'distilbert.transformer.layer.0.ffn.lin1.bias', 'distilbert.transformer.layer.5.ffn.lin1.weight', 'distilbert.transformer.layer.3.attention.q_lin.bias', 'distilbert.transformer.layer.4.attention.out_lin.weight', 'distilbert.transformer.layer.4.ffn.lin2.weight', 'distilbert.transformer.layer.4.ffn.lin2.bias', 'distilbert.transformer.layer.3.attention.v_lin.weight', 'distilbert.transformer.layer.3.output_layer_norm.bias', 'distilbert.transformer.layer.4.output_layer_norm.bias', 'distilbert.embeddings.LayerNorm.bias', 'distilbert.transformer.layer.2.ffn.lin2.weight', 'distilbert.transformer.layer.3.output_layer_norm.weight', 'distilbert.transformer.layer.0.output_layer_norm.weight', 'distilbert.transformer.layer.5.sa_layer_norm.weight', 'distilbert.transformer.layer.1.attention.q_lin.bias', 'distilbert.transformer.layer.3.attention.k_lin.weight', 'distilbert.transformer.layer.2.output_layer_norm.weight', 'distilbert.transformer.layer.1.ffn.lin2.weight', 'distilbert.transformer.layer.0.sa_layer_norm.bias', 'distilbert.transformer.layer.4.attention.k_lin.bias', 'distilbert.embeddings.position_embeddings.weight', 'distilbert.transformer.layer.1.attention.v_lin.bias', 'distilbert.transformer.layer.4.sa_layer_norm.bias', 'distilbert.transformer.layer.1.output_layer_norm.weight', 'distilbert.transformer.layer.5.attention.v_lin.bias', 'vocab_layer_norm.bias', 'distilbert.transformer.layer.4.attention.q_lin.bias', 'distilbert.transformer.layer.3.ffn.lin2.bias', 'distilbert.transformer.layer.3.attention.v_lin.bias', 'distilbert.transformer.layer.2.sa_layer_norm.bias', 'distilbert.transformer.layer.0.ffn.lin1.weight', 'distilbert.transformer.layer.0.attention.v_lin.bias', 'distilbert.transformer.layer.3.sa_layer_norm.weight', 'distilbert.transformer.layer.3.attention.out_lin.bias', 'distilbert.transformer.layer.5.output_layer_norm.weight', 'distilbert.transformer.layer.2.output_layer_norm.bias', 'distilbert.transformer.layer.5.attention.q_lin.weight', 'distilbert.transformer.layer.5.attention.k_lin.bias', 'distilbert.transformer.layer.5.attention.out_lin.weight', 'distilbert.transformer.layer.5.attention.out_lin.bias', 'distilbert.transformer.layer.4.attention.v_lin.weight', 'distilbert.transformer.layer.1.ffn.lin1.bias', 'distilbert.transformer.layer.0.attention.out_lin.weight', 'distilbert.embeddings.word_embeddings.weight', 'distilbert.transformer.layer.2.attention.v_lin.bias', 'distilbert.transformer.layer.1.sa_layer_norm.bias', 'distilbert.transformer.layer.4.ffn.lin1.bias', 'distilbert.transformer.layer.4.attention.k_lin.weight', 'distilbert.transformer.layer.1.attention.v_lin.weight', 'distilbert.transformer.layer.3.ffn.lin2.weight', 'distilbert.transformer.layer.5.sa_layer_norm.bias', 'distilbert.transformer.layer.3.ffn.lin1.weight', 'distilbert.transformer.layer.0.attention.q_lin.bias', 'distilbert.transformer.layer.1.sa_layer_norm.weight', 'distilbert.transformer.layer.1.attention.k_lin.weight', 'distilbert.transformer.layer.3.attention.k_lin.bias', 'distilbert.transformer.layer.1.attention.q_lin.weight', 'distilbert.transformer.layer.2.attention.v_lin.weight', 'distilbert.transformer.layer.2.attention.k_lin.weight', 'distilbert.transformer.layer.1.attention.k_lin.bias', 'distilbert.transformer.layer.5.ffn.lin2.weight', 'distilbert.transformer.layer.2.ffn.lin1.bias', 'distilbert.transformer.layer.0.attention.out_lin.bias', 'vocab_projector.weight', 'distilbert.transformer.layer.2.sa_layer_norm.weight', 'distilbert.transformer.layer.5.output_layer_norm.bias', 'distilbert.transformer.layer.0.attention.k_lin.weight', 'distilbert.transformer.layer.0.ffn.lin2.bias', 'distilbert.transformer.layer.1.attention.out_lin.weight', 'distilbert.transformer.layer.1.ffn.lin1.weight', 'distilbert.transformer.layer.5.ffn.lin1.bias', 'distilbert.transformer.layer.2.attention.out_lin.weight', 'distilbert.transformer.layer.5.attention.v_lin.weight', 'distilbert.transformer.layer.2.attention.out_lin.bias', 'distilbert.transformer.layer.4.ffn.lin1.weight', 'distilbert.transformer.layer.2.attention.q_lin.weight', 'distilbert.transformer.layer.5.ffn.lin2.bias', 'distilbert.transformer.layer.2.attention.k_lin.bias', 'distilbert.transformer.layer.2.ffn.lin2.bias', 'distilbert.transformer.layer.0.output_layer_norm.bias', 'distilbert.transformer.layer.0.attention.v_lin.weight', 'distilbert.transformer.layer.1.ffn.lin2.bias', 'distilbert.transformer.layer.5.attention.q_lin.bias', 'distilbert.transformer.layer.3.attention.out_lin.weight', 'distilbert.transformer.layer.1.attention.out_lin.bias']\n",
      "- This IS expected if you are initializing BertForPreTraining from the checkpoint of a model trained on another task or with another architecture (e.g. initializing a BertForSequenceClassification model from a BertForPreTraining model).\n",
      "- This IS NOT expected if you are initializing BertForPreTraining from the checkpoint of a model that you expect to be exactly identical (initializing a BertForSequenceClassification model from a BertForSequenceClassification model).\n",
      "Some weights of BertForPreTraining were not initialized from the model checkpoint at distilbert-base-uncased and are newly initialized: ['encoder.layer.10.attention.self.query.weight', 'encoder.layer.7.attention.self.key.weight', 'encoder.layer.1.attention.output.LayerNorm.bias', 'encoder.layer.1.intermediate.dense.weight', 'encoder.layer.1.attention.output.LayerNorm.weight', 'encoder.layer.11.output.LayerNorm.weight', 'encoder.layer.11.intermediate.dense.weight', 'encoder.layer.6.output.LayerNorm.bias', 'encoder.layer.0.attention.self.query.bias', 'encoder.layer.5.output.dense.bias', 'encoder.layer.9.attention.self.key.weight', 'encoder.layer.8.output.LayerNorm.weight', 'embeddings.word_embeddings.weight', 'embeddings.LayerNorm.weight', 'encoder.layer.1.output.LayerNorm.bias', 'encoder.layer.3.intermediate.dense.bias', 'encoder.layer.1.output.LayerNorm.weight', 'encoder.layer.6.attention.self.query.weight', 'encoder.layer.6.attention.self.key.bias', 'encoder.layer.5.attention.self.query.weight', 'encoder.layer.2.output.LayerNorm.bias', 'encoder.layer.1.attention.self.key.bias', 'encoder.layer.8.attention.output.dense.weight', 'encoder.layer.10.output.dense.bias', 'encoder.layer.10.intermediate.dense.bias', 'encoder.layer.8.attention.self.key.bias', 'encoder.layer.0.attention.self.query.weight', 'encoder.layer.0.attention.output.LayerNorm.weight', 'encoder.layer.2.output.dense.bias', 'encoder.layer.8.attention.output.LayerNorm.weight', 'encoder.layer.0.attention.self.value.weight', 'encoder.layer.10.attention.self.query.bias', 'encoder.layer.1.attention.self.value.bias', 'cls.predictions.transform.dense.weight', 'encoder.layer.9.attention.output.LayerNorm.bias', 'encoder.layer.11.attention.output.dense.weight', 'encoder.layer.8.intermediate.dense.bias', 'encoder.layer.3.attention.self.query.bias', 'encoder.layer.7.output.LayerNorm.bias', 'encoder.layer.6.output.dense.weight', 'encoder.layer.3.output.dense.weight', 'encoder.layer.0.output.LayerNorm.weight', 'encoder.layer.8.attention.self.query.weight', 'encoder.layer.2.attention.self.value.bias', 'encoder.layer.5.intermediate.dense.weight', 'encoder.layer.6.attention.self.query.bias', 'encoder.layer.10.attention.self.value.bias', 'encoder.layer.7.intermediate.dense.bias', 'encoder.layer.10.output.LayerNorm.weight', 'encoder.layer.2.attention.output.dense.weight', 'encoder.layer.8.output.dense.bias', 'encoder.layer.4.intermediate.dense.bias', 'encoder.layer.5.attention.output.LayerNorm.bias', 'encoder.layer.7.attention.output.dense.weight', 'encoder.layer.10.attention.output.dense.weight', 'encoder.layer.0.output.LayerNorm.bias', 'encoder.layer.3.attention.self.query.weight', 'encoder.layer.3.attention.self.key.bias', 'encoder.layer.9.output.LayerNorm.weight', 'encoder.layer.5.attention.self.value.weight', 'encoder.layer.10.output.LayerNorm.bias', 'encoder.layer.2.attention.self.query.weight', 'encoder.layer.4.attention.self.key.bias', 'encoder.layer.3.output.LayerNorm.bias', 'encoder.layer.8.output.dense.weight', 'cls.seq_relationship.bias', 'embeddings.position_embeddings.weight', 'encoder.layer.8.output.LayerNorm.bias', 'encoder.layer.1.attention.self.query.weight', 'encoder.layer.6.attention.self.value.weight', 'encoder.layer.4.attention.self.query.weight', 'encoder.layer.7.attention.self.query.bias', 'encoder.layer.6.attention.self.value.bias', 'encoder.layer.3.attention.self.value.weight', 'encoder.layer.7.attention.output.LayerNorm.bias', 'encoder.layer.4.output.LayerNorm.bias', 'encoder.layer.0.output.dense.bias', 'encoder.layer.3.attention.output.dense.weight', 'encoder.layer.0.intermediate.dense.weight', 'encoder.layer.7.output.LayerNorm.weight', 'encoder.layer.7.output.dense.weight', 'encoder.layer.1.attention.self.key.weight', 'encoder.layer.1.attention.output.dense.weight', 'encoder.layer.11.attention.output.LayerNorm.bias', 'encoder.layer.9.attention.output.dense.bias', 'encoder.layer.10.attention.self.key.weight', 'embeddings.LayerNorm.bias', 'encoder.layer.7.intermediate.dense.weight', 'encoder.layer.10.attention.self.key.bias', 'encoder.layer.5.attention.self.query.bias', 'encoder.layer.10.output.dense.weight', 'encoder.layer.5.attention.output.dense.bias', 'encoder.layer.5.attention.self.value.bias', 'encoder.layer.11.output.LayerNorm.bias', 'encoder.layer.6.attention.output.LayerNorm.bias', 'encoder.layer.11.attention.self.key.weight', 'encoder.layer.0.attention.self.key.weight', 'encoder.layer.6.attention.output.dense.bias', 'embeddings.token_type_embeddings.weight', 'encoder.layer.1.attention.output.dense.bias', 'encoder.layer.0.attention.self.key.bias', 'encoder.layer.3.attention.output.dense.bias', 'encoder.layer.11.attention.output.LayerNorm.weight', 'encoder.layer.10.intermediate.dense.weight', 'encoder.layer.6.attention.output.dense.weight', 'encoder.layer.6.attention.output.LayerNorm.weight', 'encoder.layer.5.attention.self.key.bias', 'encoder.layer.9.intermediate.dense.bias', 'cls.predictions.bias', 'encoder.layer.11.attention.self.query.bias', 'encoder.layer.4.attention.output.LayerNorm.bias', 'encoder.layer.8.attention.output.LayerNorm.bias', 'encoder.layer.2.attention.output.LayerNorm.bias', 'encoder.layer.5.attention.output.LayerNorm.weight', 'encoder.layer.6.intermediate.dense.weight', 'pooler.dense.bias', 'encoder.layer.11.attention.output.dense.bias', 'encoder.layer.11.attention.self.query.weight', 'encoder.layer.8.attention.self.query.bias', 'encoder.layer.8.attention.self.value.bias', 'encoder.layer.8.intermediate.dense.weight', 'encoder.layer.9.attention.self.query.bias', 'encoder.layer.1.output.dense.weight', 'encoder.layer.9.attention.output.dense.weight', 'encoder.layer.5.attention.self.key.weight', 'encoder.layer.8.attention.self.value.weight', 'encoder.layer.4.output.LayerNorm.weight', 'encoder.layer.9.attention.self.query.weight', 'encoder.layer.9.attention.self.key.bias', 'encoder.layer.7.attention.self.value.weight', 'encoder.layer.9.attention.output.LayerNorm.weight', 'encoder.layer.9.intermediate.dense.weight', 'cls.seq_relationship.weight', 'encoder.layer.9.output.LayerNorm.bias', 'encoder.layer.0.attention.self.value.bias', 'encoder.layer.5.output.dense.weight', 'encoder.layer.0.attention.output.dense.bias', 'encoder.layer.0.attention.output.dense.weight', 'encoder.layer.3.attention.output.LayerNorm.weight', 'encoder.layer.7.attention.self.value.bias', 'encoder.layer.11.attention.self.value.weight', 'encoder.layer.5.intermediate.dense.bias', 'encoder.layer.4.output.dense.bias', 'encoder.layer.3.output.LayerNorm.weight', 'encoder.layer.10.attention.self.value.weight', 'encoder.layer.2.attention.self.key.weight', 'encoder.layer.11.output.dense.weight', 'cls.predictions.transform.dense.bias', 'encoder.layer.1.attention.self.query.bias', 'encoder.layer.10.attention.output.LayerNorm.weight', 'encoder.layer.11.intermediate.dense.bias', 'encoder.layer.3.attention.self.key.weight', 'encoder.layer.5.output.LayerNorm.weight', 'encoder.layer.2.attention.self.query.bias', 'encoder.layer.11.attention.self.value.bias', 'encoder.layer.10.attention.output.LayerNorm.bias', 'encoder.layer.7.output.dense.bias', 'encoder.layer.4.attention.output.LayerNorm.weight', 'encoder.layer.9.output.dense.bias', 'encoder.layer.1.attention.self.value.weight', 'encoder.layer.4.attention.self.query.bias', 'cls.predictions.transform.LayerNorm.bias', 'encoder.layer.6.attention.self.key.weight', 'encoder.layer.4.attention.self.value.weight', 'encoder.layer.9.attention.self.value.bias', 'encoder.layer.5.output.LayerNorm.bias', 'encoder.layer.3.output.dense.bias', 'encoder.layer.1.output.dense.bias', 'encoder.layer.2.attention.self.key.bias', 'encoder.layer.3.attention.output.LayerNorm.bias', 'encoder.layer.7.attention.output.LayerNorm.weight', 'encoder.layer.7.attention.self.key.bias', 'encoder.layer.0.output.dense.weight', 'encoder.layer.4.attention.self.key.weight', 'encoder.layer.1.intermediate.dense.bias', 'encoder.layer.5.attention.output.dense.weight', 'encoder.layer.6.intermediate.dense.bias', 'encoder.layer.2.intermediate.dense.bias', 'cls.predictions.transform.LayerNorm.weight', 'encoder.layer.4.output.dense.weight', 'encoder.layer.6.output.LayerNorm.weight', 'encoder.layer.4.intermediate.dense.weight', 'encoder.layer.0.attention.output.LayerNorm.bias', 'encoder.layer.3.intermediate.dense.weight', 'encoder.layer.4.attention.output.dense.weight', 'encoder.layer.8.attention.output.dense.bias', 'encoder.layer.2.intermediate.dense.weight', 'encoder.layer.11.output.dense.bias', 'encoder.layer.2.attention.output.dense.bias', 'encoder.layer.4.attention.output.dense.bias', 'encoder.layer.10.attention.output.dense.bias', 'encoder.layer.6.output.dense.bias', 'encoder.layer.4.attention.self.value.bias', 'encoder.layer.2.output.dense.weight', 'encoder.layer.9.attention.self.value.weight', 'pooler.dense.weight', 'encoder.layer.2.output.LayerNorm.weight', 'encoder.layer.8.attention.self.key.weight', 'encoder.layer.3.attention.self.value.bias', 'encoder.layer.0.intermediate.dense.bias', 'encoder.layer.2.attention.self.value.weight', 'encoder.layer.7.attention.self.query.weight', 'encoder.layer.2.attention.output.LayerNorm.weight', 'encoder.layer.7.attention.output.dense.bias', 'encoder.layer.9.output.dense.weight', 'encoder.layer.11.attention.self.key.bias']\n",
      "You should probably TRAIN this model on a down-stream task to be able to use it for predictions and inference.\n"
     ]
    }
   ],
   "source": [
    "tokenizer = BertTokenizer.from_pretrained(\"bert-base-uncased\")\n",
    "class BertSentenceClassifier(nn.Module):\n",
    "    def __init__(self, num_labels):\n",
    "        super(BertSentenceClassifier, self).__init__()\n",
    "        print(\"ok2\")\n",
    "\n",
    "        self.bert_freezed =  BertForPreTraining.from_pretrained('distilbert-base-uncased') #BertForSequenceClassification.from_pretrained('bert-base-uncased', problem_type=\"multi_label_classification\")\n",
    "        print(\"ok2\")\n",
    "        self.bert_training = BertForPreTraining.from_pretrained('distilbert-base-uncased') #BertForSequenceClassification.from_pretrained('bert-base-uncased', problem_type=\"multi_label_classification\")\n",
    "        for param in self.bert_freezed.parameters():\n",
    "            param.requires_grad = False\n",
    "        self.dropout_rate = 0.1\n",
    "        self.lin1 = nn.Linear(768, 256)\n",
    "        self.lin_layers = nn.ModuleList([nn.Linear(256, 256) for i in range(4)])\n",
    "        self.lin2 = nn.Linear(256, num_labels)\n",
    "\n",
    "    def forward(self, input_ids, attention_mask):\n",
    "        bert_1 = self.bert_freezed(input_ids=input_ids, attention_mask=attention_mask)\n",
    "        bert_2 = self.bert_training(input_ids=input_ids, attention_mask=attention_mask)\n",
    "\n",
    "        print(\"bert passed!!!\")\n",
    "        x = nn.functional.relu(self.lin1(bert_1.prediction_logits + bert_2.prediction_logits))\n",
    "        print(\"x passed!!!\")\n",
    "\n",
    "        x = nn.functional.dropout(x, self.dropout_rate)\n",
    "        print(\"x passed!!!\")\n",
    "\n",
    "        for lin_layer in self.lin_layers:\n",
    "            print(\"x passed!!!\")\n",
    "\n",
    "            x = nn.functional.relu(lin_layer(x))\n",
    "            x = nn.functional.dropout(x, self.dropout_rate)\n",
    "        print(\"x passed!!!\")\n",
    "\n",
    "        x = self.lin2(x)\n",
    "        return x\n",
    "model = BertSentenceClassifier(len(labels))"
   ]
  },
  {
   "cell_type": "code",
   "execution_count": null,
   "metadata": {},
   "outputs": [],
   "source": [
    "model.train()"
   ]
  },
  {
   "cell_type": "code",
   "execution_count": null,
   "metadata": {},
   "outputs": [],
   "source": [
    "from transformers import AdamW\n",
    "optimizer = AdamW(model.parameters(), lr=1e-3)\n",
    "no_decay = ['bias', 'LayerNorm.weight']\n",
    "optimizer_grouped_parameters = [\n",
    "    {'params': [p for n, p in model.named_parameters() if not any(nd in n for nd in no_decay)], 'weight_decay': 0.01},\n",
    "    {'params': [p for n, p in model.named_parameters() if any(nd in n for nd in no_decay)], 'weight_decay': 0.0}\n",
    "]\n",
    "optimizer = AdamW(optimizer_grouped_parameters, lr=1e-5)"
   ]
  },
  {
   "cell_type": "code",
   "execution_count": null,
   "metadata": {},
   "outputs": [],
   "source": [
    "import nltk\n",
    "from nltk.corpus import wordnet\n",
    "import random\n",
    "nltk.download('wordnet')\n",
    "def add_noise(text, p=0.2):\n",
    "    words = text.split()\n",
    "    num_noise_words = int(len(words) * p)\n",
    "    for i in range(num_noise_words):\n",
    "        idx = random.randint(0, len(words)-1)\n",
    "        word = words[idx]\n",
    "        synsets = wordnet.synsets(word)\n",
    "        if synsets:\n",
    "            synset = random.choice(synsets)\n",
    "            synonyms = synset.lemmas()\n",
    "            if random.random() < p/2:\n",
    "                synonym = random.choice(synonyms)\n",
    "                words[idx] = synonym.name()\n",
    "            # Replace word with nearest neighbor with probability p/2\n",
    "            else:\n",
    "                if word in dict_of_synonyms:\n",
    "                    \n",
    "                    nn = random.choice(dict_of_synonyms[word])\n",
    "                    # print(\"number is nn: \",nn)\n",
    "                    words[idx] = nn[1]\n",
    "                else:\n",
    "                    synonym = random.choice(synonyms)\n",
    "                    words[idx] = synonym.name()\n",
    "    # print(words)\n",
    "    return ' '.join(words)\n",
    "\n",
    "class TextClassificationDataset(Dataset):\n",
    "    def __init__(self, X, y, tokenizer):\n",
    "        self.X = X\n",
    "        self.y = y\n",
    "        self.tokenizer = tokenizer\n",
    "\n",
    "    def __len__(self):\n",
    "        return len(self.X)\n",
    "\n",
    "    def __getitem__(self, idx):\n",
    "        text = add_noise(str(self.X[idx]), p = .8)\n",
    "        label = self.y[idx]\n",
    "        encoding = self.tokenizer(\n",
    "            text, \n",
    "            add_special_tokens=True, \n",
    "            max_length=512, \n",
    "            padding='max_length', \n",
    "            truncation=True, \n",
    "            return_attention_mask=True, \n",
    "            return_tensors='pt'\n",
    "        )\n",
    "        input_ids = encoding['input_ids'].squeeze()\n",
    "        attention_mask = encoding['attention_mask'].squeeze()\n",
    "\n",
    "        return input_ids, attention_mask, torch.tensor(label)\n",
    "\n",
    "# Assuming X is a list of texts and y is a list of labels\n",
    "X = [\"I love Pixar.\", \"I don't care for Pixar.\"]\n",
    "y = [1, 0]\n",
    "\n",
    "# Load the pre-trained tokenizer\n",
    "tokenizer = BertTokenizer.from_pretrained('bert-base-uncased')\n",
    "\n",
    "# Create the dataset\n",
    "dataset = TextClassificationDataset(new_x, new_y, tokenizer)\n",
    "\n",
    "# Create the data loader\n",
    "batch_size = 4\n",
    "\n",
    "train_set, val_set = torch.utils.data.random_split(dataset, [2000, 523])\n",
    "\n",
    "train_loader = DataLoader(train_set,batch_size=4,shuffle=True,drop_last=True)\n",
    "val_loader = DataLoader(val_set,batch_size=4,shuffle=True,drop_last=True)\n",
    "\n"
   ]
  },
  {
   "cell_type": "code",
   "execution_count": null,
   "metadata": {},
   "outputs": [],
   "source": [
    "\n",
    "import os\n",
    "from sys import platform\n",
    "\n",
    "import torch\n",
    "if platform == \"darwin\":\n",
    "    device = \"mps\" if torch.backends.mps.is_available() else \"cpu\"\n",
    "else:\n",
    "    device = \"cuda\" if torch.cuda.is_available() else \"cpu\"\n",
    "\n",
    "    torch.backends.cudnn.benchmark = True\n",
    "    torch.backends.cudnn.deterministic = True\n",
    "    torch.backends.cudnn.enabled = True\n",
    "    torch.autograd.set_detect_anomaly(True)\n",
    "    os.environ['CUDA_LAUNCH_BLOCKING'] = '1'\n",
    "    os.environ['TORCH_USE_CUDA_DSA'] = '1'\n",
    "\n",
    "\n",
    "    device = \"cuda\" if torch.cuda.is_available() else \"cpu\"\n"
   ]
  },
  {
   "cell_type": "code",
   "execution_count": null,
   "metadata": {},
   "outputs": [],
   "source": [
    "# def accuracy(preds, labels):\n",
    "#     _, predictions = torch.max(preds, dim=1)\n",
    "#     correct = (predictions == labels).sum().item()\n",
    "#     return correct / len(labels)\n",
    "# def train(model, optimizer, train_loader,val_loader, num_epochs):\n",
    "#     model = model.to(device)\n",
    "#     criterion = nn.CrossEntropyLoss()\n",
    "\n",
    "#     for epoch in range(num_epochs):\n",
    "#         running_loss = 0.0\n",
    "#         running_accuracy = 0.0\n",
    "#         num_batches = 0\n",
    "#         loop = tqdm(train_loader, total=len(train_loader))\n",
    "\n",
    "#         for input_ids, attention_mask, labels in loop:\n",
    "#             input_ids = input_ids.to(device)\n",
    "#             attention_mask = attention_mask.to(device)\n",
    "#             labels = labels.to(device)\n",
    "\n",
    "#             optimizer.zero_grad()\n",
    "\n",
    "#             outputs = model(input_ids=input_ids, attention_mask=attention_mask)\n",
    "#             loss = criterion(outputs.logits, labels)\n",
    "#             acc = accuracy(outputs.logits, labels)\n",
    "\n",
    "#             loss.backward()\n",
    "#             optimizer.step()\n",
    "\n",
    "#             running_loss += loss.item()\n",
    "#             running_accuracy += acc\n",
    "#             num_batches += 1\n",
    "#             loop.set_description(f\"Epoch [{epoch + 1}/{num_epochs}]\")\n",
    "#             loop.set_postfix(loss=loss.item())\n",
    "\n",
    "#         epoch_loss = running_loss / num_batches\n",
    "#         epoch_accuracy = running_accuracy / num_batches\n",
    "#         print(f\"Epoch [{epoch+1}/{num_epochs}] Loss: {epoch_loss:.4f} Accuracy: {epoch_accuracy:.4f}\")\n",
    "\n",
    "#     return model\n"
   ]
  },
  {
   "cell_type": "code",
   "execution_count": null,
   "metadata": {},
   "outputs": [],
   "source": [
    "#model.load_state_dict(torch.load(\"saved_model.pt\"))"
   ]
  },
  {
   "cell_type": "code",
   "execution_count": null,
   "metadata": {},
   "outputs": [],
   "source": [
    "def accuracy(preds, labels):\n",
    "    _, predictions = torch.max(preds, dim=1)\n",
    "    correct = (predictions == labels).sum().item()\n",
    "    return correct / len(labels)\n",
    "\n",
    "def train(model, optimizer, train_loader, val_loader,num_epochs):\n",
    "    model = model.to(device)\n",
    "    criterion = nn.CrossEntropyLoss()\n",
    "\n",
    "    for epoch in range(num_epochs):\n",
    "        running_loss = 0.0\n",
    "        running_accuracy = 0.0\n",
    "        num_batches = 0\n",
    "\n",
    "        # Training step\n",
    "        model.train()\n",
    "        loop = tqdm(train_loader, total=len(train_loader))\n",
    "        for input_ids, attention_mask, labels in loop:\n",
    "            print(\"ok\")\n",
    "\n",
    "            input_ids = input_ids.to(device)\n",
    "            attention_mask = attention_mask.to(device)\n",
    "            labels = labels.to(device)\n",
    "            print(\"ok\")\n",
    "\n",
    "            optimizer.zero_grad()\n",
    "            print(\"ok\")\n",
    "            outputs = model(input_ids=input_ids, attention_mask=attention_mask)\n",
    "            loss = criterion(outputs, labels)\n",
    "            acc = accuracy(outputs, labels)\n",
    "\n",
    "            loss.backward()\n",
    "            optimizer.step()\n",
    "\n",
    "            running_loss += loss.item()\n",
    "            running_accuracy += acc\n",
    "            num_batches += 1\n",
    "            loop.set_description(f\"Epoch [{epoch + 1}] (Training)\")\n",
    "            loop.set_postfix(loss=loss.item())\n",
    "\n",
    "        epoch_loss = running_loss / num_batches\n",
    "        epoch_accuracy = running_accuracy / num_batches\n",
    "        print(f\"Epoch [{epoch+1}] (Training) Loss: {epoch_loss:.4f} Accuracy: {epoch_accuracy:.4f}\")\n",
    "\n",
    "        # Evaluation step\n",
    "        running_accuracy = 0.0\n",
    "        num_batches = 0\n",
    "        model.eval()\n",
    "        with torch.no_grad():\n",
    "            for input_ids, attention_mask, labels in val_loader:\n",
    "                input_ids = input_ids.to(device)\n",
    "                attention_mask = attention_mask.to(device)\n",
    "                labels = labels.to(device)\n",
    "\n",
    "                outputs = model(input_ids=input_ids, attention_mask=attention_mask)\n",
    "                acc = accuracy(outputs, labels)\n",
    "\n",
    "                running_accuracy += acc\n",
    "                num_batches += 1\n",
    "\n",
    "        val_accuracy = running_accuracy / num_batches\n",
    "        print(f\"Epoch [{epoch+1}] (Validation) Accuracy: {val_accuracy:.4f}\")\n",
    "\n",
    "    return model\n"
   ]
  },
  {
   "cell_type": "code",
   "execution_count": null,
   "metadata": {},
   "outputs": [],
   "source": [
    "train(model,optimizer, train_loader,val_loader,100)"
   ]
  },
  {
   "cell_type": "code",
   "execution_count": null,
   "metadata": {},
   "outputs": [],
   "source": [
    "torch.save(model.state_dict(), \"saved_model.pt\")"
   ]
  },
  {
   "cell_type": "code",
   "execution_count": null,
   "metadata": {},
   "outputs": [],
   "source": [
    "# from transformers import BertForSequenceClassification, BertTokenizer\n",
    "\n",
    "# # Load the tokenizer and the model\n",
    "# tokenizer = BertTokenizer.from_pretrained('bert-base-uncased')\n",
    "# # model = BertForSequenceClassification.from_pretrained('bert-base-uncased')\n",
    "\n",
    "# # Define your inputs and labels\n",
    "# text_batch = [\"I love Pixar.\", \"I don't care for Pixar.\"]\n",
    "# encoding = tokenizer(text_batch, return_tensors='pt', padding=True, truncation=True)\n",
    "# input_ids = encoding['input_ids']\n",
    "# attention_mask = encoding['attention_mask']\n",
    "# labels = torch.tensor([1, 0])  # The ground truth labels for your examples\n",
    "\n",
    "# # Forward pass through the model\n",
    "# outputs = model(input_ids, attention_mask=attention_mask)\n",
    "# logits = outputs.logits\n",
    "\n",
    "# # Compute the loss\n",
    "# loss_fn = torch.nn.CrossEntropyLoss()\n",
    "# loss = loss_fn(logits, labels)\n",
    "\n",
    "# # Backward pass and optimization step\n",
    "# loss.backward()\n",
    "# optimizer.step()\n"
   ]
  },
  {
   "cell_type": "code",
   "execution_count": null,
   "metadata": {},
   "outputs": [],
   "source": [
    "len(outputs)"
   ]
  },
  {
   "cell_type": "code",
   "execution_count": null,
   "metadata": {},
   "outputs": [],
   "source": [
    "new_model = BertSentenceClassifier(len(labels))"
   ]
  },
  {
   "cell_type": "code",
   "execution_count": null,
   "metadata": {},
   "outputs": [],
   "source": [
    "new_model.load_state_dict(torch.load(\"saved_model.pt\"))\n"
   ]
  },
  {
   "cell_type": "code",
   "execution_count": null,
   "metadata": {},
   "outputs": [],
   "source": [
    "new_model"
   ]
  },
  {
   "cell_type": "code",
   "execution_count": null,
   "metadata": {},
   "outputs": [],
   "source": []
  }
 ],
 "metadata": {
  "kernelspec": {
   "display_name": "moviescripts",
   "language": "python",
   "name": "python3"
  },
  "language_info": {
   "codemirror_mode": {
    "name": "ipython",
    "version": 3
   },
   "file_extension": ".py",
   "mimetype": "text/x-python",
   "name": "python",
   "nbconvert_exporter": "python",
   "pygments_lexer": "ipython3",
   "version": "3.9.13"
  },
  "orig_nbformat": 4,
  "vscode": {
   "interpreter": {
    "hash": "57d255c94b3919c3b590e65021e667e868fc4932b6b03051f229d54b108b5f4d"
   }
  }
 },
 "nbformat": 4,
 "nbformat_minor": 2
}
